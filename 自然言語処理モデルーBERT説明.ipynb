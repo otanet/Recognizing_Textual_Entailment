{
  "nbformat": 4,
  "nbformat_minor": 0,
  "metadata": {
    "colab": {
      "name": "自然言語処理モデルーBERT説明.ipynb",
      "provenance": [],
      "toc_visible": true,
      "include_colab_link": true
    },
    "kernelspec": {
      "name": "python3",
      "display_name": "Python 3"
    },
    "accelerator": "GPU",
    "widgets": {
      "application/vnd.jupyter.widget-state+json": {
        "68848e978e084023aafe692bb53fd4a6": {
          "model_module": "@jupyter-widgets/controls",
          "model_name": "HBoxModel",
          "state": {
            "_view_name": "HBoxView",
            "_dom_classes": [],
            "_model_name": "HBoxModel",
            "_view_module": "@jupyter-widgets/controls",
            "_model_module_version": "1.5.0",
            "_view_count": null,
            "_view_module_version": "1.5.0",
            "box_style": "",
            "layout": "IPY_MODEL_f26c70fe62bd4f7880d895e7eb6ebced",
            "_model_module": "@jupyter-widgets/controls",
            "children": [
              "IPY_MODEL_b7ea4bffb8d44be6a0758213395d6abe",
              "IPY_MODEL_bc1772e723e84a11bbf9e3eeb5d63d64"
            ]
          }
        },
        "f26c70fe62bd4f7880d895e7eb6ebced": {
          "model_module": "@jupyter-widgets/base",
          "model_name": "LayoutModel",
          "state": {
            "_view_name": "LayoutView",
            "grid_template_rows": null,
            "right": null,
            "justify_content": null,
            "_view_module": "@jupyter-widgets/base",
            "overflow": null,
            "_model_module_version": "1.2.0",
            "_view_count": null,
            "flex_flow": null,
            "width": null,
            "min_width": null,
            "border": null,
            "align_items": null,
            "bottom": null,
            "_model_module": "@jupyter-widgets/base",
            "top": null,
            "grid_column": null,
            "overflow_y": null,
            "overflow_x": null,
            "grid_auto_flow": null,
            "grid_area": null,
            "grid_template_columns": null,
            "flex": null,
            "_model_name": "LayoutModel",
            "justify_items": null,
            "grid_row": null,
            "max_height": null,
            "align_content": null,
            "visibility": null,
            "align_self": null,
            "height": null,
            "min_height": null,
            "padding": null,
            "grid_auto_rows": null,
            "grid_gap": null,
            "max_width": null,
            "order": null,
            "_view_module_version": "1.2.0",
            "grid_template_areas": null,
            "object_position": null,
            "object_fit": null,
            "grid_auto_columns": null,
            "margin": null,
            "display": null,
            "left": null
          }
        },
        "b7ea4bffb8d44be6a0758213395d6abe": {
          "model_module": "@jupyter-widgets/controls",
          "model_name": "FloatProgressModel",
          "state": {
            "_view_name": "ProgressView",
            "style": "IPY_MODEL_1bf4f61846f845f18b70584e273a27c9",
            "_dom_classes": [],
            "description": "Downloading: 100%",
            "_model_name": "FloatProgressModel",
            "bar_style": "success",
            "max": 1271,
            "_view_module": "@jupyter-widgets/controls",
            "_model_module_version": "1.5.0",
            "value": 1271,
            "_view_count": null,
            "_view_module_version": "1.5.0",
            "orientation": "horizontal",
            "min": 0,
            "description_tooltip": null,
            "_model_module": "@jupyter-widgets/controls",
            "layout": "IPY_MODEL_aecc98409d64432bb37f30b3bede4f5e"
          }
        },
        "bc1772e723e84a11bbf9e3eeb5d63d64": {
          "model_module": "@jupyter-widgets/controls",
          "model_name": "HTMLModel",
          "state": {
            "_view_name": "HTMLView",
            "style": "IPY_MODEL_6c207c3cb61243c2abc8f99acf240f98",
            "_dom_classes": [],
            "description": "",
            "_model_name": "HTMLModel",
            "placeholder": "​",
            "_view_module": "@jupyter-widgets/controls",
            "_model_module_version": "1.5.0",
            "value": " 1.27k/1.27k [00:01&lt;00:00, 746B/s]",
            "_view_count": null,
            "_view_module_version": "1.5.0",
            "description_tooltip": null,
            "_model_module": "@jupyter-widgets/controls",
            "layout": "IPY_MODEL_548e67cbd68d4a14ac9effead3930868"
          }
        },
        "1bf4f61846f845f18b70584e273a27c9": {
          "model_module": "@jupyter-widgets/controls",
          "model_name": "ProgressStyleModel",
          "state": {
            "_view_name": "StyleView",
            "_model_name": "ProgressStyleModel",
            "description_width": "initial",
            "_view_module": "@jupyter-widgets/base",
            "_model_module_version": "1.5.0",
            "_view_count": null,
            "_view_module_version": "1.2.0",
            "bar_color": null,
            "_model_module": "@jupyter-widgets/controls"
          }
        },
        "aecc98409d64432bb37f30b3bede4f5e": {
          "model_module": "@jupyter-widgets/base",
          "model_name": "LayoutModel",
          "state": {
            "_view_name": "LayoutView",
            "grid_template_rows": null,
            "right": null,
            "justify_content": null,
            "_view_module": "@jupyter-widgets/base",
            "overflow": null,
            "_model_module_version": "1.2.0",
            "_view_count": null,
            "flex_flow": null,
            "width": null,
            "min_width": null,
            "border": null,
            "align_items": null,
            "bottom": null,
            "_model_module": "@jupyter-widgets/base",
            "top": null,
            "grid_column": null,
            "overflow_y": null,
            "overflow_x": null,
            "grid_auto_flow": null,
            "grid_area": null,
            "grid_template_columns": null,
            "flex": null,
            "_model_name": "LayoutModel",
            "justify_items": null,
            "grid_row": null,
            "max_height": null,
            "align_content": null,
            "visibility": null,
            "align_self": null,
            "height": null,
            "min_height": null,
            "padding": null,
            "grid_auto_rows": null,
            "grid_gap": null,
            "max_width": null,
            "order": null,
            "_view_module_version": "1.2.0",
            "grid_template_areas": null,
            "object_position": null,
            "object_fit": null,
            "grid_auto_columns": null,
            "margin": null,
            "display": null,
            "left": null
          }
        },
        "6c207c3cb61243c2abc8f99acf240f98": {
          "model_module": "@jupyter-widgets/controls",
          "model_name": "DescriptionStyleModel",
          "state": {
            "_view_name": "StyleView",
            "_model_name": "DescriptionStyleModel",
            "description_width": "",
            "_view_module": "@jupyter-widgets/base",
            "_model_module_version": "1.5.0",
            "_view_count": null,
            "_view_module_version": "1.2.0",
            "_model_module": "@jupyter-widgets/controls"
          }
        },
        "548e67cbd68d4a14ac9effead3930868": {
          "model_module": "@jupyter-widgets/base",
          "model_name": "LayoutModel",
          "state": {
            "_view_name": "LayoutView",
            "grid_template_rows": null,
            "right": null,
            "justify_content": null,
            "_view_module": "@jupyter-widgets/base",
            "overflow": null,
            "_model_module_version": "1.2.0",
            "_view_count": null,
            "flex_flow": null,
            "width": null,
            "min_width": null,
            "border": null,
            "align_items": null,
            "bottom": null,
            "_model_module": "@jupyter-widgets/base",
            "top": null,
            "grid_column": null,
            "overflow_y": null,
            "overflow_x": null,
            "grid_auto_flow": null,
            "grid_area": null,
            "grid_template_columns": null,
            "flex": null,
            "_model_name": "LayoutModel",
            "justify_items": null,
            "grid_row": null,
            "max_height": null,
            "align_content": null,
            "visibility": null,
            "align_self": null,
            "height": null,
            "min_height": null,
            "padding": null,
            "grid_auto_rows": null,
            "grid_gap": null,
            "max_width": null,
            "order": null,
            "_view_module_version": "1.2.0",
            "grid_template_areas": null,
            "object_position": null,
            "object_fit": null,
            "grid_auto_columns": null,
            "margin": null,
            "display": null,
            "left": null
          }
        },
        "3e2b4e869143422590d5de4bbdbb7de0": {
          "model_module": "@jupyter-widgets/controls",
          "model_name": "HBoxModel",
          "state": {
            "_view_name": "HBoxView",
            "_dom_classes": [],
            "_model_name": "HBoxModel",
            "_view_module": "@jupyter-widgets/controls",
            "_model_module_version": "1.5.0",
            "_view_count": null,
            "_view_module_version": "1.5.0",
            "box_style": "",
            "layout": "IPY_MODEL_33aebdcd3f9543f996e705d6320510ae",
            "_model_module": "@jupyter-widgets/controls",
            "children": [
              "IPY_MODEL_f52f26c6cb6f4b3da8e11d86df6b8eee",
              "IPY_MODEL_878d3efcfd1c49eab6729e06cd258ad3"
            ]
          }
        },
        "33aebdcd3f9543f996e705d6320510ae": {
          "model_module": "@jupyter-widgets/base",
          "model_name": "LayoutModel",
          "state": {
            "_view_name": "LayoutView",
            "grid_template_rows": null,
            "right": null,
            "justify_content": null,
            "_view_module": "@jupyter-widgets/base",
            "overflow": null,
            "_model_module_version": "1.2.0",
            "_view_count": null,
            "flex_flow": null,
            "width": null,
            "min_width": null,
            "border": null,
            "align_items": null,
            "bottom": null,
            "_model_module": "@jupyter-widgets/base",
            "top": null,
            "grid_column": null,
            "overflow_y": null,
            "overflow_x": null,
            "grid_auto_flow": null,
            "grid_area": null,
            "grid_template_columns": null,
            "flex": null,
            "_model_name": "LayoutModel",
            "justify_items": null,
            "grid_row": null,
            "max_height": null,
            "align_content": null,
            "visibility": null,
            "align_self": null,
            "height": null,
            "min_height": null,
            "padding": null,
            "grid_auto_rows": null,
            "grid_gap": null,
            "max_width": null,
            "order": null,
            "_view_module_version": "1.2.0",
            "grid_template_areas": null,
            "object_position": null,
            "object_fit": null,
            "grid_auto_columns": null,
            "margin": null,
            "display": null,
            "left": null
          }
        },
        "f52f26c6cb6f4b3da8e11d86df6b8eee": {
          "model_module": "@jupyter-widgets/controls",
          "model_name": "FloatProgressModel",
          "state": {
            "_view_name": "ProgressView",
            "style": "IPY_MODEL_65dc50287fc44a549e83cbe17196b3e9",
            "_dom_classes": [],
            "description": "Downloading: 100%",
            "_model_name": "FloatProgressModel",
            "bar_style": "success",
            "max": 257706,
            "_view_module": "@jupyter-widgets/controls",
            "_model_module_version": "1.5.0",
            "value": 257706,
            "_view_count": null,
            "_view_module_version": "1.5.0",
            "orientation": "horizontal",
            "min": 0,
            "description_tooltip": null,
            "_model_module": "@jupyter-widgets/controls",
            "layout": "IPY_MODEL_6a990f68e49d415d892eb344946b4fd2"
          }
        },
        "878d3efcfd1c49eab6729e06cd258ad3": {
          "model_module": "@jupyter-widgets/controls",
          "model_name": "HTMLModel",
          "state": {
            "_view_name": "HTMLView",
            "style": "IPY_MODEL_35017b1ae2924169a508aa3bfcc976ee",
            "_dom_classes": [],
            "description": "",
            "_model_name": "HTMLModel",
            "placeholder": "​",
            "_view_module": "@jupyter-widgets/controls",
            "_model_module_version": "1.5.0",
            "value": " 258k/258k [00:00&lt;00:00, 368kB/s]",
            "_view_count": null,
            "_view_module_version": "1.5.0",
            "description_tooltip": null,
            "_model_module": "@jupyter-widgets/controls",
            "layout": "IPY_MODEL_b78c978fa40b4db5a6dd303df7e6e18e"
          }
        },
        "65dc50287fc44a549e83cbe17196b3e9": {
          "model_module": "@jupyter-widgets/controls",
          "model_name": "ProgressStyleModel",
          "state": {
            "_view_name": "StyleView",
            "_model_name": "ProgressStyleModel",
            "description_width": "initial",
            "_view_module": "@jupyter-widgets/base",
            "_model_module_version": "1.5.0",
            "_view_count": null,
            "_view_module_version": "1.2.0",
            "bar_color": null,
            "_model_module": "@jupyter-widgets/controls"
          }
        },
        "6a990f68e49d415d892eb344946b4fd2": {
          "model_module": "@jupyter-widgets/base",
          "model_name": "LayoutModel",
          "state": {
            "_view_name": "LayoutView",
            "grid_template_rows": null,
            "right": null,
            "justify_content": null,
            "_view_module": "@jupyter-widgets/base",
            "overflow": null,
            "_model_module_version": "1.2.0",
            "_view_count": null,
            "flex_flow": null,
            "width": null,
            "min_width": null,
            "border": null,
            "align_items": null,
            "bottom": null,
            "_model_module": "@jupyter-widgets/base",
            "top": null,
            "grid_column": null,
            "overflow_y": null,
            "overflow_x": null,
            "grid_auto_flow": null,
            "grid_area": null,
            "grid_template_columns": null,
            "flex": null,
            "_model_name": "LayoutModel",
            "justify_items": null,
            "grid_row": null,
            "max_height": null,
            "align_content": null,
            "visibility": null,
            "align_self": null,
            "height": null,
            "min_height": null,
            "padding": null,
            "grid_auto_rows": null,
            "grid_gap": null,
            "max_width": null,
            "order": null,
            "_view_module_version": "1.2.0",
            "grid_template_areas": null,
            "object_position": null,
            "object_fit": null,
            "grid_auto_columns": null,
            "margin": null,
            "display": null,
            "left": null
          }
        },
        "35017b1ae2924169a508aa3bfcc976ee": {
          "model_module": "@jupyter-widgets/controls",
          "model_name": "DescriptionStyleModel",
          "state": {
            "_view_name": "StyleView",
            "_model_name": "DescriptionStyleModel",
            "description_width": "",
            "_view_module": "@jupyter-widgets/base",
            "_model_module_version": "1.5.0",
            "_view_count": null,
            "_view_module_version": "1.2.0",
            "_model_module": "@jupyter-widgets/controls"
          }
        },
        "b78c978fa40b4db5a6dd303df7e6e18e": {
          "model_module": "@jupyter-widgets/base",
          "model_name": "LayoutModel",
          "state": {
            "_view_name": "LayoutView",
            "grid_template_rows": null,
            "right": null,
            "justify_content": null,
            "_view_module": "@jupyter-widgets/base",
            "overflow": null,
            "_model_module_version": "1.2.0",
            "_view_count": null,
            "flex_flow": null,
            "width": null,
            "min_width": null,
            "border": null,
            "align_items": null,
            "bottom": null,
            "_model_module": "@jupyter-widgets/base",
            "top": null,
            "grid_column": null,
            "overflow_y": null,
            "overflow_x": null,
            "grid_auto_flow": null,
            "grid_area": null,
            "grid_template_columns": null,
            "flex": null,
            "_model_name": "LayoutModel",
            "justify_items": null,
            "grid_row": null,
            "max_height": null,
            "align_content": null,
            "visibility": null,
            "align_self": null,
            "height": null,
            "min_height": null,
            "padding": null,
            "grid_auto_rows": null,
            "grid_gap": null,
            "max_width": null,
            "order": null,
            "_view_module_version": "1.2.0",
            "grid_template_areas": null,
            "object_position": null,
            "object_fit": null,
            "grid_auto_columns": null,
            "margin": null,
            "display": null,
            "left": null
          }
        },
        "77d0d297835a4c469db0e2b53344106e": {
          "model_module": "@jupyter-widgets/controls",
          "model_name": "HBoxModel",
          "state": {
            "_view_name": "HBoxView",
            "_dom_classes": [],
            "_model_name": "HBoxModel",
            "_view_module": "@jupyter-widgets/controls",
            "_model_module_version": "1.5.0",
            "_view_count": null,
            "_view_module_version": "1.5.0",
            "box_style": "",
            "layout": "IPY_MODEL_7b96c710596a4e3e97218e036324d6b8",
            "_model_module": "@jupyter-widgets/controls",
            "children": [
              "IPY_MODEL_35e9d10155dc4529bdd18468f580e4d2",
              "IPY_MODEL_33fb9b2cfef84d209b3a327331171ad4"
            ]
          }
        },
        "7b96c710596a4e3e97218e036324d6b8": {
          "model_module": "@jupyter-widgets/base",
          "model_name": "LayoutModel",
          "state": {
            "_view_name": "LayoutView",
            "grid_template_rows": null,
            "right": null,
            "justify_content": null,
            "_view_module": "@jupyter-widgets/base",
            "overflow": null,
            "_model_module_version": "1.2.0",
            "_view_count": null,
            "flex_flow": null,
            "width": null,
            "min_width": null,
            "border": null,
            "align_items": null,
            "bottom": null,
            "_model_module": "@jupyter-widgets/base",
            "top": null,
            "grid_column": null,
            "overflow_y": null,
            "overflow_x": null,
            "grid_auto_flow": null,
            "grid_area": null,
            "grid_template_columns": null,
            "flex": null,
            "_model_name": "LayoutModel",
            "justify_items": null,
            "grid_row": null,
            "max_height": null,
            "align_content": null,
            "visibility": null,
            "align_self": null,
            "height": null,
            "min_height": null,
            "padding": null,
            "grid_auto_rows": null,
            "grid_gap": null,
            "max_width": null,
            "order": null,
            "_view_module_version": "1.2.0",
            "grid_template_areas": null,
            "object_position": null,
            "object_fit": null,
            "grid_auto_columns": null,
            "margin": null,
            "display": null,
            "left": null
          }
        },
        "35e9d10155dc4529bdd18468f580e4d2": {
          "model_module": "@jupyter-widgets/controls",
          "model_name": "FloatProgressModel",
          "state": {
            "_view_name": "ProgressView",
            "style": "IPY_MODEL_335a9907d6bf4d3b84096b4bdba1fa0e",
            "_dom_classes": [],
            "description": "Downloading: 100%",
            "_model_name": "FloatProgressModel",
            "bar_style": "success",
            "max": 112,
            "_view_module": "@jupyter-widgets/controls",
            "_model_module_version": "1.5.0",
            "value": 112,
            "_view_count": null,
            "_view_module_version": "1.5.0",
            "orientation": "horizontal",
            "min": 0,
            "description_tooltip": null,
            "_model_module": "@jupyter-widgets/controls",
            "layout": "IPY_MODEL_67047a8457704fd4ae6fb48037901344"
          }
        },
        "33fb9b2cfef84d209b3a327331171ad4": {
          "model_module": "@jupyter-widgets/controls",
          "model_name": "HTMLModel",
          "state": {
            "_view_name": "HTMLView",
            "style": "IPY_MODEL_66a3d055c9264fa18ffb8a3324d81fb3",
            "_dom_classes": [],
            "description": "",
            "_model_name": "HTMLModel",
            "placeholder": "​",
            "_view_module": "@jupyter-widgets/controls",
            "_model_module_version": "1.5.0",
            "value": " 112/112 [00:00&lt;00:00, 240B/s]",
            "_view_count": null,
            "_view_module_version": "1.5.0",
            "description_tooltip": null,
            "_model_module": "@jupyter-widgets/controls",
            "layout": "IPY_MODEL_294efecc98b24d9789f93ea3dcc5d500"
          }
        },
        "335a9907d6bf4d3b84096b4bdba1fa0e": {
          "model_module": "@jupyter-widgets/controls",
          "model_name": "ProgressStyleModel",
          "state": {
            "_view_name": "StyleView",
            "_model_name": "ProgressStyleModel",
            "description_width": "initial",
            "_view_module": "@jupyter-widgets/base",
            "_model_module_version": "1.5.0",
            "_view_count": null,
            "_view_module_version": "1.2.0",
            "bar_color": null,
            "_model_module": "@jupyter-widgets/controls"
          }
        },
        "67047a8457704fd4ae6fb48037901344": {
          "model_module": "@jupyter-widgets/base",
          "model_name": "LayoutModel",
          "state": {
            "_view_name": "LayoutView",
            "grid_template_rows": null,
            "right": null,
            "justify_content": null,
            "_view_module": "@jupyter-widgets/base",
            "overflow": null,
            "_model_module_version": "1.2.0",
            "_view_count": null,
            "flex_flow": null,
            "width": null,
            "min_width": null,
            "border": null,
            "align_items": null,
            "bottom": null,
            "_model_module": "@jupyter-widgets/base",
            "top": null,
            "grid_column": null,
            "overflow_y": null,
            "overflow_x": null,
            "grid_auto_flow": null,
            "grid_area": null,
            "grid_template_columns": null,
            "flex": null,
            "_model_name": "LayoutModel",
            "justify_items": null,
            "grid_row": null,
            "max_height": null,
            "align_content": null,
            "visibility": null,
            "align_self": null,
            "height": null,
            "min_height": null,
            "padding": null,
            "grid_auto_rows": null,
            "grid_gap": null,
            "max_width": null,
            "order": null,
            "_view_module_version": "1.2.0",
            "grid_template_areas": null,
            "object_position": null,
            "object_fit": null,
            "grid_auto_columns": null,
            "margin": null,
            "display": null,
            "left": null
          }
        },
        "66a3d055c9264fa18ffb8a3324d81fb3": {
          "model_module": "@jupyter-widgets/controls",
          "model_name": "DescriptionStyleModel",
          "state": {
            "_view_name": "StyleView",
            "_model_name": "DescriptionStyleModel",
            "description_width": "",
            "_view_module": "@jupyter-widgets/base",
            "_model_module_version": "1.5.0",
            "_view_count": null,
            "_view_module_version": "1.2.0",
            "_model_module": "@jupyter-widgets/controls"
          }
        },
        "294efecc98b24d9789f93ea3dcc5d500": {
          "model_module": "@jupyter-widgets/base",
          "model_name": "LayoutModel",
          "state": {
            "_view_name": "LayoutView",
            "grid_template_rows": null,
            "right": null,
            "justify_content": null,
            "_view_module": "@jupyter-widgets/base",
            "overflow": null,
            "_model_module_version": "1.2.0",
            "_view_count": null,
            "flex_flow": null,
            "width": null,
            "min_width": null,
            "border": null,
            "align_items": null,
            "bottom": null,
            "_model_module": "@jupyter-widgets/base",
            "top": null,
            "grid_column": null,
            "overflow_y": null,
            "overflow_x": null,
            "grid_auto_flow": null,
            "grid_area": null,
            "grid_template_columns": null,
            "flex": null,
            "_model_name": "LayoutModel",
            "justify_items": null,
            "grid_row": null,
            "max_height": null,
            "align_content": null,
            "visibility": null,
            "align_self": null,
            "height": null,
            "min_height": null,
            "padding": null,
            "grid_auto_rows": null,
            "grid_gap": null,
            "max_width": null,
            "order": null,
            "_view_module_version": "1.2.0",
            "grid_template_areas": null,
            "object_position": null,
            "object_fit": null,
            "grid_auto_columns": null,
            "margin": null,
            "display": null,
            "left": null
          }
        },
        "15fc8700c27a4ffba28cbbab5c356dd3": {
          "model_module": "@jupyter-widgets/controls",
          "model_name": "HBoxModel",
          "state": {
            "_view_name": "HBoxView",
            "_dom_classes": [],
            "_model_name": "HBoxModel",
            "_view_module": "@jupyter-widgets/controls",
            "_model_module_version": "1.5.0",
            "_view_count": null,
            "_view_module_version": "1.5.0",
            "box_style": "",
            "layout": "IPY_MODEL_0cafd6f5146947338cf69ead3e7b7190",
            "_model_module": "@jupyter-widgets/controls",
            "children": [
              "IPY_MODEL_d652c2e26b194de8914c2d55a2e2257b",
              "IPY_MODEL_61ccd3eb4e2a41f4a03cd3e5a354dd82"
            ]
          }
        },
        "0cafd6f5146947338cf69ead3e7b7190": {
          "model_module": "@jupyter-widgets/base",
          "model_name": "LayoutModel",
          "state": {
            "_view_name": "LayoutView",
            "grid_template_rows": null,
            "right": null,
            "justify_content": null,
            "_view_module": "@jupyter-widgets/base",
            "overflow": null,
            "_model_module_version": "1.2.0",
            "_view_count": null,
            "flex_flow": null,
            "width": null,
            "min_width": null,
            "border": null,
            "align_items": null,
            "bottom": null,
            "_model_module": "@jupyter-widgets/base",
            "top": null,
            "grid_column": null,
            "overflow_y": null,
            "overflow_x": null,
            "grid_auto_flow": null,
            "grid_area": null,
            "grid_template_columns": null,
            "flex": null,
            "_model_name": "LayoutModel",
            "justify_items": null,
            "grid_row": null,
            "max_height": null,
            "align_content": null,
            "visibility": null,
            "align_self": null,
            "height": null,
            "min_height": null,
            "padding": null,
            "grid_auto_rows": null,
            "grid_gap": null,
            "max_width": null,
            "order": null,
            "_view_module_version": "1.2.0",
            "grid_template_areas": null,
            "object_position": null,
            "object_fit": null,
            "grid_auto_columns": null,
            "margin": null,
            "display": null,
            "left": null
          }
        },
        "d652c2e26b194de8914c2d55a2e2257b": {
          "model_module": "@jupyter-widgets/controls",
          "model_name": "FloatProgressModel",
          "state": {
            "_view_name": "ProgressView",
            "style": "IPY_MODEL_97e3bc15d50e4d51b0889b841ec8f48d",
            "_dom_classes": [],
            "description": "Downloading: 100%",
            "_model_name": "FloatProgressModel",
            "bar_style": "success",
            "max": 111,
            "_view_module": "@jupyter-widgets/controls",
            "_model_module_version": "1.5.0",
            "value": 111,
            "_view_count": null,
            "_view_module_version": "1.5.0",
            "orientation": "horizontal",
            "min": 0,
            "description_tooltip": null,
            "_model_module": "@jupyter-widgets/controls",
            "layout": "IPY_MODEL_6ff341955b7f44ad89c6eb7b735910ed"
          }
        },
        "61ccd3eb4e2a41f4a03cd3e5a354dd82": {
          "model_module": "@jupyter-widgets/controls",
          "model_name": "HTMLModel",
          "state": {
            "_view_name": "HTMLView",
            "style": "IPY_MODEL_28f7f13315b14cb2a243a32e2f8ab16c",
            "_dom_classes": [],
            "description": "",
            "_model_name": "HTMLModel",
            "placeholder": "​",
            "_view_module": "@jupyter-widgets/controls",
            "_model_module_version": "1.5.0",
            "value": " 111/111 [00:00&lt;00:00, 1.29kB/s]",
            "_view_count": null,
            "_view_module_version": "1.5.0",
            "description_tooltip": null,
            "_model_module": "@jupyter-widgets/controls",
            "layout": "IPY_MODEL_e8892c3974c5447bad48ea4fe9eca292"
          }
        },
        "97e3bc15d50e4d51b0889b841ec8f48d": {
          "model_module": "@jupyter-widgets/controls",
          "model_name": "ProgressStyleModel",
          "state": {
            "_view_name": "StyleView",
            "_model_name": "ProgressStyleModel",
            "description_width": "initial",
            "_view_module": "@jupyter-widgets/base",
            "_model_module_version": "1.5.0",
            "_view_count": null,
            "_view_module_version": "1.2.0",
            "bar_color": null,
            "_model_module": "@jupyter-widgets/controls"
          }
        },
        "6ff341955b7f44ad89c6eb7b735910ed": {
          "model_module": "@jupyter-widgets/base",
          "model_name": "LayoutModel",
          "state": {
            "_view_name": "LayoutView",
            "grid_template_rows": null,
            "right": null,
            "justify_content": null,
            "_view_module": "@jupyter-widgets/base",
            "overflow": null,
            "_model_module_version": "1.2.0",
            "_view_count": null,
            "flex_flow": null,
            "width": null,
            "min_width": null,
            "border": null,
            "align_items": null,
            "bottom": null,
            "_model_module": "@jupyter-widgets/base",
            "top": null,
            "grid_column": null,
            "overflow_y": null,
            "overflow_x": null,
            "grid_auto_flow": null,
            "grid_area": null,
            "grid_template_columns": null,
            "flex": null,
            "_model_name": "LayoutModel",
            "justify_items": null,
            "grid_row": null,
            "max_height": null,
            "align_content": null,
            "visibility": null,
            "align_self": null,
            "height": null,
            "min_height": null,
            "padding": null,
            "grid_auto_rows": null,
            "grid_gap": null,
            "max_width": null,
            "order": null,
            "_view_module_version": "1.2.0",
            "grid_template_areas": null,
            "object_position": null,
            "object_fit": null,
            "grid_auto_columns": null,
            "margin": null,
            "display": null,
            "left": null
          }
        },
        "28f7f13315b14cb2a243a32e2f8ab16c": {
          "model_module": "@jupyter-widgets/controls",
          "model_name": "DescriptionStyleModel",
          "state": {
            "_view_name": "StyleView",
            "_model_name": "DescriptionStyleModel",
            "description_width": "",
            "_view_module": "@jupyter-widgets/base",
            "_model_module_version": "1.5.0",
            "_view_count": null,
            "_view_module_version": "1.2.0",
            "_model_module": "@jupyter-widgets/controls"
          }
        },
        "e8892c3974c5447bad48ea4fe9eca292": {
          "model_module": "@jupyter-widgets/base",
          "model_name": "LayoutModel",
          "state": {
            "_view_name": "LayoutView",
            "grid_template_rows": null,
            "right": null,
            "justify_content": null,
            "_view_module": "@jupyter-widgets/base",
            "overflow": null,
            "_model_module_version": "1.2.0",
            "_view_count": null,
            "flex_flow": null,
            "width": null,
            "min_width": null,
            "border": null,
            "align_items": null,
            "bottom": null,
            "_model_module": "@jupyter-widgets/base",
            "top": null,
            "grid_column": null,
            "overflow_y": null,
            "overflow_x": null,
            "grid_auto_flow": null,
            "grid_area": null,
            "grid_template_columns": null,
            "flex": null,
            "_model_name": "LayoutModel",
            "justify_items": null,
            "grid_row": null,
            "max_height": null,
            "align_content": null,
            "visibility": null,
            "align_self": null,
            "height": null,
            "min_height": null,
            "padding": null,
            "grid_auto_rows": null,
            "grid_gap": null,
            "max_width": null,
            "order": null,
            "_view_module_version": "1.2.0",
            "grid_template_areas": null,
            "object_position": null,
            "object_fit": null,
            "grid_auto_columns": null,
            "margin": null,
            "display": null,
            "left": null
          }
        },
        "3a7a39b214d44e408709288d3028b9b0": {
          "model_module": "@jupyter-widgets/controls",
          "model_name": "HBoxModel",
          "state": {
            "_view_name": "HBoxView",
            "_dom_classes": [],
            "_model_name": "HBoxModel",
            "_view_module": "@jupyter-widgets/controls",
            "_model_module_version": "1.5.0",
            "_view_count": null,
            "_view_module_version": "1.5.0",
            "box_style": "",
            "layout": "IPY_MODEL_1ad12ff5acfb4e1a8ecae1172bb4a6b3",
            "_model_module": "@jupyter-widgets/controls",
            "children": [
              "IPY_MODEL_d3f92ce8e68041eda65fa98ab6d2150c",
              "IPY_MODEL_fc502598025a4ac2879b9e6292155b54"
            ]
          }
        },
        "1ad12ff5acfb4e1a8ecae1172bb4a6b3": {
          "model_module": "@jupyter-widgets/base",
          "model_name": "LayoutModel",
          "state": {
            "_view_name": "LayoutView",
            "grid_template_rows": null,
            "right": null,
            "justify_content": null,
            "_view_module": "@jupyter-widgets/base",
            "overflow": null,
            "_model_module_version": "1.2.0",
            "_view_count": null,
            "flex_flow": null,
            "width": null,
            "min_width": null,
            "border": null,
            "align_items": null,
            "bottom": null,
            "_model_module": "@jupyter-widgets/base",
            "top": null,
            "grid_column": null,
            "overflow_y": null,
            "overflow_x": null,
            "grid_auto_flow": null,
            "grid_area": null,
            "grid_template_columns": null,
            "flex": null,
            "_model_name": "LayoutModel",
            "justify_items": null,
            "grid_row": null,
            "max_height": null,
            "align_content": null,
            "visibility": null,
            "align_self": null,
            "height": null,
            "min_height": null,
            "padding": null,
            "grid_auto_rows": null,
            "grid_gap": null,
            "max_width": null,
            "order": null,
            "_view_module_version": "1.2.0",
            "grid_template_areas": null,
            "object_position": null,
            "object_fit": null,
            "grid_auto_columns": null,
            "margin": null,
            "display": null,
            "left": null
          }
        },
        "d3f92ce8e68041eda65fa98ab6d2150c": {
          "model_module": "@jupyter-widgets/controls",
          "model_name": "FloatProgressModel",
          "state": {
            "_view_name": "ProgressView",
            "style": "IPY_MODEL_20705249072e4d5a8e6cede8be3c7d78",
            "_dom_classes": [],
            "description": "Downloading: 100%",
            "_model_name": "FloatProgressModel",
            "bar_style": "success",
            "max": 442523795,
            "_view_module": "@jupyter-widgets/controls",
            "_model_module_version": "1.5.0",
            "value": 442523795,
            "_view_count": null,
            "_view_module_version": "1.5.0",
            "orientation": "horizontal",
            "min": 0,
            "description_tooltip": null,
            "_model_module": "@jupyter-widgets/controls",
            "layout": "IPY_MODEL_f6dd32f0122741baa030f6b0ad5b34d7"
          }
        },
        "fc502598025a4ac2879b9e6292155b54": {
          "model_module": "@jupyter-widgets/controls",
          "model_name": "HTMLModel",
          "state": {
            "_view_name": "HTMLView",
            "style": "IPY_MODEL_3768ed7ce42c46c389c38aad35d69915",
            "_dom_classes": [],
            "description": "",
            "_model_name": "HTMLModel",
            "placeholder": "​",
            "_view_module": "@jupyter-widgets/controls",
            "_model_module_version": "1.5.0",
            "value": " 443M/443M [00:10&lt;00:00, 43.4MB/s]",
            "_view_count": null,
            "_view_module_version": "1.5.0",
            "description_tooltip": null,
            "_model_module": "@jupyter-widgets/controls",
            "layout": "IPY_MODEL_98fbbe777e774f0e935d7f163e6c3c4f"
          }
        },
        "20705249072e4d5a8e6cede8be3c7d78": {
          "model_module": "@jupyter-widgets/controls",
          "model_name": "ProgressStyleModel",
          "state": {
            "_view_name": "StyleView",
            "_model_name": "ProgressStyleModel",
            "description_width": "initial",
            "_view_module": "@jupyter-widgets/base",
            "_model_module_version": "1.5.0",
            "_view_count": null,
            "_view_module_version": "1.2.0",
            "bar_color": null,
            "_model_module": "@jupyter-widgets/controls"
          }
        },
        "f6dd32f0122741baa030f6b0ad5b34d7": {
          "model_module": "@jupyter-widgets/base",
          "model_name": "LayoutModel",
          "state": {
            "_view_name": "LayoutView",
            "grid_template_rows": null,
            "right": null,
            "justify_content": null,
            "_view_module": "@jupyter-widgets/base",
            "overflow": null,
            "_model_module_version": "1.2.0",
            "_view_count": null,
            "flex_flow": null,
            "width": null,
            "min_width": null,
            "border": null,
            "align_items": null,
            "bottom": null,
            "_model_module": "@jupyter-widgets/base",
            "top": null,
            "grid_column": null,
            "overflow_y": null,
            "overflow_x": null,
            "grid_auto_flow": null,
            "grid_area": null,
            "grid_template_columns": null,
            "flex": null,
            "_model_name": "LayoutModel",
            "justify_items": null,
            "grid_row": null,
            "max_height": null,
            "align_content": null,
            "visibility": null,
            "align_self": null,
            "height": null,
            "min_height": null,
            "padding": null,
            "grid_auto_rows": null,
            "grid_gap": null,
            "max_width": null,
            "order": null,
            "_view_module_version": "1.2.0",
            "grid_template_areas": null,
            "object_position": null,
            "object_fit": null,
            "grid_auto_columns": null,
            "margin": null,
            "display": null,
            "left": null
          }
        },
        "3768ed7ce42c46c389c38aad35d69915": {
          "model_module": "@jupyter-widgets/controls",
          "model_name": "DescriptionStyleModel",
          "state": {
            "_view_name": "StyleView",
            "_model_name": "DescriptionStyleModel",
            "description_width": "",
            "_view_module": "@jupyter-widgets/base",
            "_model_module_version": "1.5.0",
            "_view_count": null,
            "_view_module_version": "1.2.0",
            "_model_module": "@jupyter-widgets/controls"
          }
        },
        "98fbbe777e774f0e935d7f163e6c3c4f": {
          "model_module": "@jupyter-widgets/base",
          "model_name": "LayoutModel",
          "state": {
            "_view_name": "LayoutView",
            "grid_template_rows": null,
            "right": null,
            "justify_content": null,
            "_view_module": "@jupyter-widgets/base",
            "overflow": null,
            "_model_module_version": "1.2.0",
            "_view_count": null,
            "flex_flow": null,
            "width": null,
            "min_width": null,
            "border": null,
            "align_items": null,
            "bottom": null,
            "_model_module": "@jupyter-widgets/base",
            "top": null,
            "grid_column": null,
            "overflow_y": null,
            "overflow_x": null,
            "grid_auto_flow": null,
            "grid_area": null,
            "grid_template_columns": null,
            "flex": null,
            "_model_name": "LayoutModel",
            "justify_items": null,
            "grid_row": null,
            "max_height": null,
            "align_content": null,
            "visibility": null,
            "align_self": null,
            "height": null,
            "min_height": null,
            "padding": null,
            "grid_auto_rows": null,
            "grid_gap": null,
            "max_width": null,
            "order": null,
            "_view_module_version": "1.2.0",
            "grid_template_areas": null,
            "object_position": null,
            "object_fit": null,
            "grid_auto_columns": null,
            "margin": null,
            "display": null,
            "left": null
          }
        }
      }
    }
  },
  "cells": [
    {
      "cell_type": "markdown",
      "metadata": {
        "id": "view-in-github",
        "colab_type": "text"
      },
      "source": [
        "<a href=\"https://colab.research.google.com/github/otanet/Recognizing_Textual_Entailment/blob/main/%E8%87%AA%E7%84%B6%E8%A8%80%E8%AA%9E%E5%87%A6%E7%90%86%E3%83%A2%E3%83%87%E3%83%AB%E3%83%BCBERT%E8%AA%AC%E6%98%8E.ipynb\" target=\"_parent\"><img src=\"https://colab.research.google.com/assets/colab-badge.svg\" alt=\"Open In Colab\"/></a>"
      ]
    },
    {
      "cell_type": "markdown",
      "metadata": {
        "id": "504oZnevVxIs"
      },
      "source": [
        "# **自然言語処理モデルーBERT説明**\n",
        "\n",
        "YouTubeに内容説明の動画：https://youtu.be/CqC7RCVhj7o\n",
        "\n",
        "---\n",
        "\n",
        "\n",
        "BERT[(Bidirectional Encoder Representations from Transformers)](https://arxiv.org/abs/1810.04805)は google さんが２０１８年１０月に研究開発されました。\n",
        "\n",
        "\n",
        "* BERTのアーキテクチャーについて\n",
        "\n",
        "\n",
        "* BERTの事前学習モデル \n",
        "\n",
        "\n",
        "* ディープラーニングのモデルについて、簡単に説明\n",
        "\n",
        "\n",
        "* BERTのTutorial（文書の感情分析）を検証します。\n",
        "\n",
        "\n",
        "* BERTに関して、その他情報\n",
        "\n",
        "\n",
        "* 自然言語処理の学習リソースをご紹介\n",
        "\n",
        "\n",
        "\n",
        "\n",
        "\n"
      ]
    },
    {
      "cell_type": "markdown",
      "metadata": {
        "id": "5HvYzKwYiAIu"
      },
      "source": [
        "### **BERTのアーキテクチャーについて**\n",
        "\n",
        "BERT BASE と BERT LARGE\n",
        "\n",
        "<img src=\"https://drive.google.com/uc?export=view&id=1nuqHcTDtcl-NtK-ZJo9hRCbvcaIVGRa0\"  width=75% >\n",
        "\n",
        "<img src=\"https://drive.google.com/uc?export=view&id=1ZFBMH1ED9oBbYyfXcVp3Jq-cT9VgJGsB\" width=100% >\n",
        "\n",
        "inputの部分はテキストから単語の単位で分割してトークン化にして、トークンした数字をモデルにinputします。\n",
        "\n",
        "モデルの部分は事前学習したモデルを利用し、実装します。\n",
        "\n",
        "outputの青い部分から、分類とか数値の予測とかFeed-forwardで結果を出力できます。\n",
        "\n",
        "\n"
      ]
    },
    {
      "cell_type": "markdown",
      "metadata": {
        "id": "SC8meSgs39uK"
      },
      "source": [
        "### **BERTの事前学習モデル** \n",
        "\n",
        "BERTの事前学習モデル pre-train modelは[huggingface.co](http://huggingface.co)サイトに数多く公表されています。\n",
        "\n",
        "\n",
        "\n"
      ]
    },
    {
      "cell_type": "markdown",
      "metadata": {
        "id": "mGzzrAP1ESP1"
      },
      "source": [
        "### **ディープラーニングのモデルについて、簡単に説明**\n",
        "\n",
        "\n",
        "<img src=\"https://drive.google.com/uc?export=view&id=1bS1etwxDfkYMxT24mRzc1YvMiSNnkcrE\"  width=65% >"
      ]
    },
    {
      "cell_type": "markdown",
      "metadata": {
        "id": "5yMvuCL_FJ5C"
      },
      "source": [
        "サンプルデーターセット｛X,Y｝がありますと。  **f(x)=ax+b**  のファンクションの係数**a,b**を解くことです。\n",
        "\n",
        "\\begin{equation}\n",
        "f(x)=y \\\\ \\left\\{\\ x,y  | \\forall x \\in X, \\forall y \\in Y \\right\\}\n",
        "\\end{equation}\n",
        "\n",
        "\n",
        "例えば、２つサンプルデーターがありますと、下記計算式の解は逆算できます。aとbのニューロン係数を解きます。。\n",
        "\n",
        "\\begin{cases}\n",
        "    ax_1+b=y_1        & \\left\\{\\ x_1,y_1  | x_1 \\in X,  y_1 \\in Y \\right\\} \\\\\n",
        "    ax_2+b=y_2        & \\left\\{\\ x_2,y_2  |  x_2 \\in X,  y_2 \\in Y \\right\\} \\\\\n",
        "    \\vdots            &  \\vdots   \\\\\n",
        "    ax_n+b=y_n        & \\left\\{\\ x_n,y_n  |  x_n \\in X,  y_n \\in Y \\right\\} \\\\\n",
        "\\end{cases}\n",
        "\n",
        "\n",
        "ニューラルネットワークの訓練は、バイオロジーと同じく実験に失敗してからの経験を重なって、この経験を利用し、係数を修正すると最後に正しくなることです。\n",
        "\n"
      ]
    },
    {
      "cell_type": "markdown",
      "metadata": {
        "id": "i0r88JS6Fm9z"
      },
      "source": [
        "### **BERTのTutorial（文書の感情分析）を検証します。**\n",
        "\n",
        "ちょっと変わったら、顧客意見探知など出来ます。\n",
        "\n",
        "日本語のBERTモデルです。"
      ]
    },
    {
      "cell_type": "code",
      "metadata": {
        "id": "QNFlV2o7HJo5",
        "colab": {
          "base_uri": "https://localhost:8080/",
          "height": 714
        },
        "outputId": "f00de467-d8d1-47f0-c0d2-935f849f0d19"
      },
      "source": [
        "!pip install transformers\n",
        "!pip install mecab-python3"
      ],
      "execution_count": null,
      "outputs": [
        {
          "output_type": "stream",
          "text": [
            "Collecting transformers\n",
            "\u001b[?25l  Downloading https://files.pythonhosted.org/packages/48/35/ad2c5b1b8f99feaaf9d7cdadaeef261f098c6e1a6a2935d4d07662a6b780/transformers-2.11.0-py3-none-any.whl (674kB)\n",
            "\u001b[K     |████████████████████████████████| 675kB 3.5MB/s \n",
            "\u001b[?25hCollecting sentencepiece\n",
            "\u001b[?25l  Downloading https://files.pythonhosted.org/packages/d4/a4/d0a884c4300004a78cca907a6ff9a5e9fe4f090f5d95ab341c53d28cbc58/sentencepiece-0.1.91-cp36-cp36m-manylinux1_x86_64.whl (1.1MB)\n",
            "\u001b[K     |████████████████████████████████| 1.1MB 20.9MB/s \n",
            "\u001b[?25hCollecting sacremoses\n",
            "\u001b[?25l  Downloading https://files.pythonhosted.org/packages/7d/34/09d19aff26edcc8eb2a01bed8e98f13a1537005d31e95233fd48216eed10/sacremoses-0.0.43.tar.gz (883kB)\n",
            "\u001b[K     |████████████████████████████████| 890kB 24.5MB/s \n",
            "\u001b[?25hRequirement already satisfied: dataclasses; python_version < \"3.7\" in /usr/local/lib/python3.6/dist-packages (from transformers) (0.7)\n",
            "Requirement already satisfied: requests in /usr/local/lib/python3.6/dist-packages (from transformers) (2.23.0)\n",
            "Requirement already satisfied: packaging in /usr/local/lib/python3.6/dist-packages (from transformers) (20.4)\n",
            "Collecting tokenizers==0.7.0\n",
            "\u001b[?25l  Downloading https://files.pythonhosted.org/packages/14/e5/a26eb4716523808bb0a799fcfdceb6ebf77a18169d9591b2f46a9adb87d9/tokenizers-0.7.0-cp36-cp36m-manylinux1_x86_64.whl (3.8MB)\n",
            "\u001b[K     |████████████████████████████████| 3.8MB 32.0MB/s \n",
            "\u001b[?25hRequirement already satisfied: regex!=2019.12.17 in /usr/local/lib/python3.6/dist-packages (from transformers) (2019.12.20)\n",
            "Requirement already satisfied: filelock in /usr/local/lib/python3.6/dist-packages (from transformers) (3.0.12)\n",
            "Requirement already satisfied: numpy in /usr/local/lib/python3.6/dist-packages (from transformers) (1.18.5)\n",
            "Requirement already satisfied: tqdm>=4.27 in /usr/local/lib/python3.6/dist-packages (from transformers) (4.41.1)\n",
            "Requirement already satisfied: six in /usr/local/lib/python3.6/dist-packages (from sacremoses->transformers) (1.12.0)\n",
            "Requirement already satisfied: click in /usr/local/lib/python3.6/dist-packages (from sacremoses->transformers) (7.1.2)\n",
            "Requirement already satisfied: joblib in /usr/local/lib/python3.6/dist-packages (from sacremoses->transformers) (0.15.1)\n",
            "Requirement already satisfied: urllib3!=1.25.0,!=1.25.1,<1.26,>=1.21.1 in /usr/local/lib/python3.6/dist-packages (from requests->transformers) (1.24.3)\n",
            "Requirement already satisfied: certifi>=2017.4.17 in /usr/local/lib/python3.6/dist-packages (from requests->transformers) (2020.4.5.1)\n",
            "Requirement already satisfied: idna<3,>=2.5 in /usr/local/lib/python3.6/dist-packages (from requests->transformers) (2.9)\n",
            "Requirement already satisfied: chardet<4,>=3.0.2 in /usr/local/lib/python3.6/dist-packages (from requests->transformers) (3.0.4)\n",
            "Requirement already satisfied: pyparsing>=2.0.2 in /usr/local/lib/python3.6/dist-packages (from packaging->transformers) (2.4.7)\n",
            "Building wheels for collected packages: sacremoses\n",
            "  Building wheel for sacremoses (setup.py) ... \u001b[?25l\u001b[?25hdone\n",
            "  Created wheel for sacremoses: filename=sacremoses-0.0.43-cp36-none-any.whl size=893260 sha256=150de913371f3c7ed07dd03c4454864f18c077019e71e6adf28b6ea65afbff0d\n",
            "  Stored in directory: /root/.cache/pip/wheels/29/3c/fd/7ce5c3f0666dab31a50123635e6fb5e19ceb42ce38d4e58f45\n",
            "Successfully built sacremoses\n",
            "Installing collected packages: sentencepiece, sacremoses, tokenizers, transformers\n",
            "Successfully installed sacremoses-0.0.43 sentencepiece-0.1.91 tokenizers-0.7.0 transformers-2.11.0\n",
            "Collecting mecab-python3\n",
            "\u001b[?25l  Downloading https://files.pythonhosted.org/packages/18/49/b55a839a77189042960bf96490640c44816073f917d489acbc5d79fa5cc3/mecab_python3-0.996.5-cp36-cp36m-manylinux2010_x86_64.whl (17.1MB)\n",
            "\u001b[K     |████████████████████████████████| 17.1MB 200kB/s \n",
            "\u001b[?25hInstalling collected packages: mecab-python3\n",
            "Successfully installed mecab-python3-0.996.5\n"
          ],
          "name": "stdout"
        }
      ]
    },
    {
      "cell_type": "code",
      "metadata": {
        "id": "Jo168IXZGAQ1"
      },
      "source": [
        "import pandas as pd\n",
        "import numpy as np\n",
        "import torch\n",
        "from transformers import AutoTokenizer, BertForSequenceClassification\n"
      ],
      "execution_count": null,
      "outputs": []
    },
    {
      "cell_type": "code",
      "metadata": {
        "id": "G1UB-tBsFcpa",
        "colab": {
          "base_uri": "https://localhost:8080/",
          "height": 269,
          "referenced_widgets": [
            "68848e978e084023aafe692bb53fd4a6",
            "f26c70fe62bd4f7880d895e7eb6ebced",
            "b7ea4bffb8d44be6a0758213395d6abe",
            "bc1772e723e84a11bbf9e3eeb5d63d64",
            "1bf4f61846f845f18b70584e273a27c9",
            "aecc98409d64432bb37f30b3bede4f5e",
            "6c207c3cb61243c2abc8f99acf240f98",
            "548e67cbd68d4a14ac9effead3930868",
            "3e2b4e869143422590d5de4bbdbb7de0",
            "33aebdcd3f9543f996e705d6320510ae",
            "f52f26c6cb6f4b3da8e11d86df6b8eee",
            "878d3efcfd1c49eab6729e06cd258ad3",
            "65dc50287fc44a549e83cbe17196b3e9",
            "6a990f68e49d415d892eb344946b4fd2",
            "35017b1ae2924169a508aa3bfcc976ee",
            "b78c978fa40b4db5a6dd303df7e6e18e",
            "77d0d297835a4c469db0e2b53344106e",
            "7b96c710596a4e3e97218e036324d6b8",
            "35e9d10155dc4529bdd18468f580e4d2",
            "33fb9b2cfef84d209b3a327331171ad4",
            "335a9907d6bf4d3b84096b4bdba1fa0e",
            "67047a8457704fd4ae6fb48037901344",
            "66a3d055c9264fa18ffb8a3324d81fb3",
            "294efecc98b24d9789f93ea3dcc5d500",
            "15fc8700c27a4ffba28cbbab5c356dd3",
            "0cafd6f5146947338cf69ead3e7b7190",
            "d652c2e26b194de8914c2d55a2e2257b",
            "61ccd3eb4e2a41f4a03cd3e5a354dd82",
            "97e3bc15d50e4d51b0889b841ec8f48d",
            "6ff341955b7f44ad89c6eb7b735910ed",
            "28f7f13315b14cb2a243a32e2f8ab16c",
            "e8892c3974c5447bad48ea4fe9eca292"
          ]
        },
        "outputId": "f26527ac-6246-4b4b-f99d-29ac9281f367"
      },
      "source": [
        "tokenizer = AutoTokenizer.from_pretrained('daigo/bert-base-japanese-sentiment')"
      ],
      "execution_count": null,
      "outputs": [
        {
          "output_type": "display_data",
          "data": {
            "application/vnd.jupyter.widget-view+json": {
              "model_id": "68848e978e084023aafe692bb53fd4a6",
              "version_minor": 0,
              "version_major": 2
            },
            "text/plain": [
              "HBox(children=(FloatProgress(value=0.0, description='Downloading', max=1271.0, style=ProgressStyle(description…"
            ]
          },
          "metadata": {
            "tags": []
          }
        },
        {
          "output_type": "stream",
          "text": [
            "\n"
          ],
          "name": "stdout"
        },
        {
          "output_type": "display_data",
          "data": {
            "application/vnd.jupyter.widget-view+json": {
              "model_id": "3e2b4e869143422590d5de4bbdbb7de0",
              "version_minor": 0,
              "version_major": 2
            },
            "text/plain": [
              "HBox(children=(FloatProgress(value=0.0, description='Downloading', max=257706.0, style=ProgressStyle(descripti…"
            ]
          },
          "metadata": {
            "tags": []
          }
        },
        {
          "output_type": "stream",
          "text": [
            "\n"
          ],
          "name": "stdout"
        },
        {
          "output_type": "display_data",
          "data": {
            "application/vnd.jupyter.widget-view+json": {
              "model_id": "77d0d297835a4c469db0e2b53344106e",
              "version_minor": 0,
              "version_major": 2
            },
            "text/plain": [
              "HBox(children=(FloatProgress(value=0.0, description='Downloading', max=112.0, style=ProgressStyle(description_…"
            ]
          },
          "metadata": {
            "tags": []
          }
        },
        {
          "output_type": "stream",
          "text": [
            "\n"
          ],
          "name": "stdout"
        },
        {
          "output_type": "display_data",
          "data": {
            "application/vnd.jupyter.widget-view+json": {
              "model_id": "15fc8700c27a4ffba28cbbab5c356dd3",
              "version_minor": 0,
              "version_major": 2
            },
            "text/plain": [
              "HBox(children=(FloatProgress(value=0.0, description='Downloading', max=111.0, style=ProgressStyle(description_…"
            ]
          },
          "metadata": {
            "tags": []
          }
        },
        {
          "output_type": "stream",
          "text": [
            "\n"
          ],
          "name": "stdout"
        },
        {
          "output_type": "stream",
          "text": [
            "/usr/local/lib/python3.6/dist-packages/transformers/tokenization_utils.py:831: FutureWarning: Parameter max_len is deprecated and will be removed in a future release. Use model_max_length instead.\n",
            "  category=FutureWarning,\n"
          ],
          "name": "stderr"
        }
      ]
    },
    {
      "cell_type": "code",
      "metadata": {
        "id": "hFTr7OgIF3vj",
        "colab": {
          "base_uri": "https://localhost:8080/",
          "height": 34
        },
        "outputId": "05e951c8-2b78-4e9a-c0c5-598b5c730525"
      },
      "source": [
        "tokenizer.tokenize('東京都、19日に休業要請を全面解除へ')"
      ],
      "execution_count": null,
      "outputs": [
        {
          "output_type": "execute_result",
          "data": {
            "text/plain": [
              "['東京', '都', '、', '19', '日', 'に', '休業', '要請', 'を', '全面', '解除', 'へ']"
            ]
          },
          "metadata": {
            "tags": []
          },
          "execution_count": 4
        }
      ]
    },
    {
      "cell_type": "code",
      "metadata": {
        "id": "JBJf68pEHRFt",
        "colab": {
          "base_uri": "https://localhost:8080/",
          "height": 34
        },
        "outputId": "539b1e03-cfec-4555-91a5-9f18bfed1e7e"
      },
      "source": [
        "tokenizer.convert_tokens_to_ids(tokenizer.tokenize('東京都、19日に休業要請を全面解除へ'))"
      ],
      "execution_count": null,
      "outputs": [
        {
          "output_type": "execute_result",
          "data": {
            "text/plain": [
              "[391, 409, 6, 39, 32, 7, 16212, 4432, 11, 6060, 6140, 118]"
            ]
          },
          "metadata": {
            "tags": []
          },
          "execution_count": 5
        }
      ]
    },
    {
      "cell_type": "code",
      "metadata": {
        "id": "XD7De-LRHx_Q",
        "colab": {
          "base_uri": "https://localhost:8080/",
          "height": 34
        },
        "outputId": "f8532277-637f-4dac-c762-a259ab5b6dd9"
      },
      "source": [
        "tokenizer.tokenize('意味のないアラート発動だった。')"
      ],
      "execution_count": null,
      "outputs": [
        {
          "output_type": "execute_result",
          "data": {
            "text/plain": [
              "['意味', 'の', 'ない', 'アラ', '##ート', '発動', 'だっ', 'た', '。']"
            ]
          },
          "metadata": {
            "tags": []
          },
          "execution_count": 6
        }
      ]
    },
    {
      "cell_type": "code",
      "metadata": {
        "id": "cRsNmrgkH0jX",
        "colab": {
          "base_uri": "https://localhost:8080/",
          "height": 34
        },
        "outputId": "593c4597-c5c7-42df-963b-54227fe8fa60"
      },
      "source": [
        "tokenizer.convert_tokens_to_ids(tokenizer.tokenize('意味のないアラート発動だった。'))"
      ],
      "execution_count": null,
      "outputs": [
        {
          "output_type": "execute_result",
          "data": {
            "text/plain": [
              "[967, 5, 80, 2416, 145, 9144, 308, 10, 8]"
            ]
          },
          "metadata": {
            "tags": []
          },
          "execution_count": 7
        }
      ]
    },
    {
      "cell_type": "markdown",
      "metadata": {
        "id": "IUckM48TGn-A"
      },
      "source": [
        "### **Input data について**"
      ]
    },
    {
      "cell_type": "markdown",
      "metadata": {
        "id": "RQvMFA8CGtrv"
      },
      "source": [
        "特別なトークン：[PAD] , [UNK] , [CLS] , [SEP] , [MASK]"
      ]
    },
    {
      "cell_type": "code",
      "metadata": {
        "id": "jPtlQyhPGpf5",
        "colab": {
          "base_uri": "https://localhost:8080/",
          "height": 34
        },
        "outputId": "62608a21-05f9-4dfd-c09d-dd2e6ef62e4b"
      },
      "source": [
        "tokenizer.encode('意味のないアラート発動だった。', add_special_tokens=True)"
      ],
      "execution_count": null,
      "outputs": [
        {
          "output_type": "execute_result",
          "data": {
            "text/plain": [
              "[2, 967, 5, 80, 2416, 145, 9144, 308, 10, 8, 3]"
            ]
          },
          "metadata": {
            "tags": []
          },
          "execution_count": 8
        }
      ]
    },
    {
      "cell_type": "code",
      "metadata": {
        "id": "Y3dMOWTdGpjq",
        "colab": {
          "base_uri": "https://localhost:8080/",
          "height": 34
        },
        "outputId": "40e044a9-8cbc-4586-b2d9-d625260f3623"
      },
      "source": [
        "tokenizer.vocab_size"
      ],
      "execution_count": null,
      "outputs": [
        {
          "output_type": "execute_result",
          "data": {
            "text/plain": [
              "32000"
            ]
          },
          "metadata": {
            "tags": []
          },
          "execution_count": 9
        }
      ]
    },
    {
      "cell_type": "code",
      "metadata": {
        "id": "MdsYDaJAGpnf"
      },
      "source": [
        "tokenizer.vocab.keys()"
      ],
      "execution_count": null,
      "outputs": []
    },
    {
      "cell_type": "markdown",
      "metadata": {
        "id": "RskPJwwwG5v2"
      },
      "source": [
        "odict_keys(['[PAD]', '[UNK]', '[CLS]', '[SEP]', '[MASK]', 'の', '、', 'に', '。', 'は', 'た', 'を', 'で', 'と', 'が', 'し', 'て', '1', 'な', '年', 'れ', 'い', 'あ', '(', ')', '2', 'さ', 'こ', 'も', 'か', '##する', 'ある', '日', 'いる', 'する', '・', '「', '月', '」', '19', 'から', '20', '大', 'ア', 'そ', 'こと', '##して', 'ま', '3', 'や', 'として', '中', '一', '人', 'よ', 'ス', 'によ', '4', 'なっ', 'その', 'ら', '-', 'れる', '『', 'など', '』', 'フ', 'シ', '##リー', '同', 'この', '出', '時', 'お', '地', 'だ', '5', '行', '201', '国', 'ない', '的', 'ため', '後', 'られ', '発', '200', '##ール', 'イ', '##ラン', '作', '日本', '##ター', '##ック', '市', '戦', 'マ', '第', '自', 'コ', '以', '6', 'あっ', 'カ', '者', '開', 'また', '高', '本', '上', 'オ', '##ット', '学', '最', 'とい', '現', 'バ', 'サ', 'へ', '##スト', 'もの', '10', '東', '##ング', 'よう', '名', 'まで', '7', '生', '部', 'あり', '世', 'プ', 'エ', '8', '##ュー', '会', '主', 'ロ', 'なる', 'という', '多', '\"', '.', '機', '##ート', '事', '新', 'デ', '県', 'ジ', '全', '##いて', '##ーム', '##って', '分', '選', 'ク', '##ティ', '9', '小', 'ド', '当', '18', '##ント', 'ト', 'ラ', '家', 'メ', '##ード', '公', 'これ', 'レ', '場', '前', 'チ', '初', '長', 'パ', '通', 'S', 'つ', 'リ', '入', 'C', 'キ', '内', '##かっ', '受', '特', 'にお', 'せ', 'A', '実', '##ンド', '連', '使', '12', '回', '軍', '##ョン', '代', '199', 'でき', '記', 'う', 'おり', '教', '設', 'ブ', '北', '##ディ', '見', '11', '文', 'テ', '対', '##イン', 'それ', '目', 'ハ', 'より', ')、', '平', '結', 'により', '経', 'タ', ',', '##リア', 'によって', '##00', 'ほ', '所', '関', '駅', 'M', '化', '##ース', '運', '三', '用', '##リカ', 'ウ', '放', '性', '番', '位', '政', 'モ', 'による', '下',\n"
      ]
    },
    {
      "cell_type": "markdown",
      "metadata": {
        "id": "HRHLmY9WG_nk"
      },
      "source": [
        "### **BERTのニューラルネットワークを作成、**"
      ]
    },
    {
      "cell_type": "code",
      "metadata": {
        "id": "3MfbggV0H25Y",
        "colab": {
          "base_uri": "https://localhost:8080/",
          "height": 66,
          "referenced_widgets": [
            "3a7a39b214d44e408709288d3028b9b0",
            "1ad12ff5acfb4e1a8ecae1172bb4a6b3",
            "d3f92ce8e68041eda65fa98ab6d2150c",
            "fc502598025a4ac2879b9e6292155b54",
            "20705249072e4d5a8e6cede8be3c7d78",
            "f6dd32f0122741baa030f6b0ad5b34d7",
            "3768ed7ce42c46c389c38aad35d69915",
            "98fbbe777e774f0e935d7f163e6c3c4f"
          ]
        },
        "outputId": "31661dfc-2d20-4866-dda2-1d18e34811ae"
      },
      "source": [
        "model = BertForSequenceClassification.from_pretrained(\n",
        "    \"daigo/bert-base-japanese-sentiment\",\n",
        "    num_labels = 2,\n",
        "    output_attentions = False,\n",
        "    output_hidden_states = False,)"
      ],
      "execution_count": null,
      "outputs": [
        {
          "output_type": "display_data",
          "data": {
            "application/vnd.jupyter.widget-view+json": {
              "model_id": "3a7a39b214d44e408709288d3028b9b0",
              "version_minor": 0,
              "version_major": 2
            },
            "text/plain": [
              "HBox(children=(FloatProgress(value=0.0, description='Downloading', max=442523795.0, style=ProgressStyle(descri…"
            ]
          },
          "metadata": {
            "tags": []
          }
        },
        {
          "output_type": "stream",
          "text": [
            "\n"
          ],
          "name": "stdout"
        }
      ]
    },
    {
      "cell_type": "code",
      "metadata": {
        "id": "lb43y6dWH7FD",
        "colab": {
          "base_uri": "https://localhost:8080/",
          "height": 34
        },
        "outputId": "86711ffd-5f79-45cc-f001-a5b2c647926c"
      },
      "source": [
        "input_ids = torch.tensor(tokenizer.encode(\"気持ちいい\", add_special_tokens=True)).unsqueeze(0)  # Batch size 1\n",
        "#labels = torch.tensor([1]).unsqueeze(0)  # Batch size 1\n",
        "#outputs = model(input_ids, labels=labels)\n",
        "input_ids"
      ],
      "execution_count": null,
      "outputs": [
        {
          "output_type": "execute_result",
          "data": {
            "text/plain": [
              "tensor([[    2,  8415, 28457, 28457,     3]])"
            ]
          },
          "metadata": {
            "tags": []
          },
          "execution_count": 11
        }
      ]
    },
    {
      "cell_type": "code",
      "metadata": {
        "id": "OFoaG5n2H97f"
      },
      "source": [
        "outputs = model(input_ids)"
      ],
      "execution_count": null,
      "outputs": []
    },
    {
      "cell_type": "code",
      "metadata": {
        "id": "oXYfKZXaIEUK",
        "colab": {
          "base_uri": "https://localhost:8080/",
          "height": 34
        },
        "outputId": "53a2ae9b-45ca-4a30-ab7e-d0152d390c74"
      },
      "source": [
        "outputs"
      ],
      "execution_count": null,
      "outputs": [
        {
          "output_type": "execute_result",
          "data": {
            "text/plain": [
              "(tensor([[ 1.9109, -2.1092]], grad_fn=<AddmmBackward>),)"
            ]
          },
          "metadata": {
            "tags": []
          },
          "execution_count": 13
        }
      ]
    },
    {
      "cell_type": "markdown",
      "metadata": {
        "id": "L6FxWsYuHVUJ"
      },
      "source": [
        "softmax function で分類する。"
      ]
    },
    {
      "cell_type": "code",
      "metadata": {
        "id": "5Mb2yQmkIG8j",
        "colab": {
          "base_uri": "https://localhost:8080/",
          "height": 34
        },
        "outputId": "91ade09b-22eb-4b8f-dab9-8113636924a0"
      },
      "source": [
        "np.exp(1.9109)/(np.exp(1.9109)+np.exp(-2.1092))"
      ],
      "execution_count": null,
      "outputs": [
        {
          "output_type": "execute_result",
          "data": {
            "text/plain": [
              "0.9823653921066929"
            ]
          },
          "metadata": {
            "tags": []
          },
          "execution_count": 14
        }
      ]
    },
    {
      "cell_type": "code",
      "metadata": {
        "id": "m28ftyoMIKtm"
      },
      "source": [
        "input_ids = torch.tensor(tokenizer.encode(\"気持ち悪い\", add_special_tokens=True)).unsqueeze(0)  # Batch size 1"
      ],
      "execution_count": null,
      "outputs": []
    },
    {
      "cell_type": "code",
      "metadata": {
        "id": "dEDuiTxZIOsV",
        "colab": {
          "base_uri": "https://localhost:8080/",
          "height": 34
        },
        "outputId": "b0d93784-f9ca-4753-93ae-ba2d27f4792d"
      },
      "source": [
        "outputs = model(input_ids)\n",
        "outputs"
      ],
      "execution_count": null,
      "outputs": [
        {
          "output_type": "execute_result",
          "data": {
            "text/plain": [
              "(tensor([[-2.2444,  1.9429]], grad_fn=<AddmmBackward>),)"
            ]
          },
          "metadata": {
            "tags": []
          },
          "execution_count": 16
        }
      ]
    },
    {
      "cell_type": "code",
      "metadata": {
        "id": "O2buAKvOIY4H",
        "colab": {
          "base_uri": "https://localhost:8080/",
          "height": 34
        },
        "outputId": "812cd15b-b129-4817-902c-f2ec9084403f"
      },
      "source": [
        "np.exp(1.9429)/(np.exp(-2.2444)+np.exp(1.9429))"
      ],
      "execution_count": null,
      "outputs": [
        {
          "output_type": "execute_result",
          "data": {
            "text/plain": [
              "0.9850399664465486"
            ]
          },
          "metadata": {
            "tags": []
          },
          "execution_count": 17
        }
      ]
    },
    {
      "cell_type": "markdown",
      "metadata": {
        "id": "d-EeXYbnUoVP"
      },
      "source": [
        "評価ファンクション\n"
      ]
    },
    {
      "cell_type": "code",
      "metadata": {
        "id": "vxH0dDEJVudb"
      },
      "source": [
        "def sa_function(text):\n",
        "    input_ids = torch.tensor(tokenizer.encode(text, add_special_tokens=True)).unsqueeze(0)  # Batch size 1\n",
        "    outputs = model(input_ids)\n",
        "    positive = outputs[0][0][0].item()\n",
        "    negative = outputs[0][0][1].item()\n",
        "    positive_p = np.exp(positive)/(np.exp(positive)+np.exp(negative))\n",
        "    negative_p = np.exp(negative)/(np.exp(positive)+np.exp(negative))\n",
        "    if positive_p>=negative_p:\n",
        "        result = {\"label\" : \"ポジティブ\",\"score\" : positive_p}\n",
        "    else:\n",
        "        result = {\"label\" : \"ネガティブ\",\"score\" : negative_p}\n",
        "            \n",
        "    return result"
      ],
      "execution_count": null,
      "outputs": []
    },
    {
      "cell_type": "markdown",
      "metadata": {
        "id": "D-6ItmTOHwSp"
      },
      "source": [
        "### **モデル分類の効果を試します。**\n",
        "\n",
        "アマゾンサイトでコメント　と　ヤフーニュースのコメントで、軽く試しましょう。"
      ]
    },
    {
      "cell_type": "code",
      "metadata": {
        "id": "FKuYUDswHtqw",
        "colab": {
          "base_uri": "https://localhost:8080/",
          "height": 34
        },
        "outputId": "cce2d233-6f09-4576-b95c-1fd7ab9af765"
      },
      "source": [
        "a = sa_function('capslockキーが使えなくなりました。ここまでひどいキーボードは初めてです。')\n",
        "a"
      ],
      "execution_count": null,
      "outputs": [
        {
          "output_type": "execute_result",
          "data": {
            "text/plain": [
              "{'label': 'ネガティブ', 'score': 0.7423163488581724}"
            ]
          },
          "metadata": {
            "tags": []
          },
          "execution_count": 19
        }
      ]
    },
    {
      "cell_type": "code",
      "metadata": {
        "id": "aomHjs21H3NG",
        "colab": {
          "base_uri": "https://localhost:8080/",
          "height": 34
        },
        "outputId": "cf732d3c-f7e5-408e-c909-bd8abdfa35d8"
      },
      "source": [
        "a = sa_function('絶対に嫌だ。気持ち悪い旦那とこれからも一緒にいようだなんて。子供もいるし旦那が収入あろうとしても複数の女とやって天狗の渡部は嫌だな')\n",
        "a"
      ],
      "execution_count": null,
      "outputs": [
        {
          "output_type": "execute_result",
          "data": {
            "text/plain": [
              "{'label': 'ネガティブ', 'score': 0.8131462489077893}"
            ]
          },
          "metadata": {
            "tags": []
          },
          "execution_count": 20
        }
      ]
    },
    {
      "cell_type": "code",
      "metadata": {
        "id": "-O-80F4JH5SN",
        "colab": {
          "base_uri": "https://localhost:8080/",
          "height": 34
        },
        "outputId": "98209fb4-a470-46a7-99bb-dbb3d3c7c562"
      },
      "source": [
        "sa_function('むしろ、コロナを知らない？名前が同じだからとああだこうだと言ってるバカ達は歴史も知らないのかね。バカは困る、ホントに。')"
      ],
      "execution_count": null,
      "outputs": [
        {
          "output_type": "execute_result",
          "data": {
            "text/plain": [
              "{'label': 'ネガティブ', 'score': 0.7500201476849074}"
            ]
          },
          "metadata": {
            "tags": []
          },
          "execution_count": 21
        }
      ]
    },
    {
      "cell_type": "markdown",
      "metadata": {
        "id": "ZrlQR_SNH_sw"
      },
      "source": [
        "### **BERTの一族に関して、その他情報**\n",
        "\n",
        "その他transformerのモデル：\n",
        "\n",
        "   * ELMO(94M); BERT(340M); GPT-2(1542M); Megatron(8G); T5(11G); Turing NLG(17G) (weight numbers)係数の量\n",
        "\n",
        "普通のGPUだったら、BERTギリギリを使える感じです。これ以上はほぼ無理です。しかもモデル性能が高い反面、悪用の懸念があるため、まだ事前学習モデルが未公開多いです。\n",
        "\n",
        "\n",
        "Open AiさんのGPT-2モデルに関して、事前学習モデル（公表されていません。）の性能\n",
        "\n",
        "\n",
        "https://talktotransformer.com/\n",
        "\n",
        "ALBERT:\n",
        "\n",
        "   * BERTの軽量モデル。ｰ>性能が落ちなく、モバイルなどリソースが限られる利用のケースです。\n",
        "\n",
        "最近に発表したGPT-3モデル：　\n",
        "\n",
        "   * 最も大きい性能が人間より良いモデルです。パラメーラー数も大きいです。\n",
        "\n",
        "\n",
        "\n"
      ]
    },
    {
      "cell_type": "code",
      "metadata": {
        "id": "lLt3xiErH7uc"
      },
      "source": [
        ""
      ],
      "execution_count": null,
      "outputs": []
    },
    {
      "cell_type": "markdown",
      "metadata": {
        "id": "0qFKZ7fGIHtX"
      },
      "source": [
        "### **自然言語処理のコースをご紹介**\n",
        "\n",
        "また、学生さんや、技術者、NLPのバックグランドを知りたい人に\n",
        "\n",
        "もっと細かく自然言語処理を勉強したいだったら、下記のコースは私のレコメンドです。\n",
        "\n",
        "* スタンフォード大学2017年秋のNLPコース：\n",
        "https://www.youtube.com/playlist?list=PL3FW7Lu3i5Jsnh1rnUwq_TcylNr7EkRe6\n",
        "\n",
        "* Coursera:\n",
        "https://www.coursera.org/learn/nlp-sequence-models\n",
        "\n",
        "２つコースは最新のBERT技術は含めてないですが。どちらでも大事な基礎の部分です。なければBERTの理解はできません。\n"
      ]
    },
    {
      "cell_type": "code",
      "metadata": {
        "id": "FfifgLyFIJtX"
      },
      "source": [
        ""
      ],
      "execution_count": null,
      "outputs": []
    }
  ]
}